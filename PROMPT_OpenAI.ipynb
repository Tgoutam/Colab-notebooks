{
  "nbformat": 4,
  "nbformat_minor": 0,
  "metadata": {
    "colab": {
      "provenance": []
    },
    "kernelspec": {
      "name": "python3",
      "display_name": "Python 3"
    },
    "language_info": {
      "name": "python"
    }
  },
  "cells": [
    {
      "cell_type": "code",
      "execution_count": null,
      "metadata": {
        "id": "WkO9-fbU8Me4"
      },
      "outputs": [],
      "source": [
        "!pip install openai==0.28"
      ]
    },
    {
      "cell_type": "code",
      "source": [
        "import openai"
      ],
      "metadata": {
        "id": "JiKxGrW68gC3"
      },
      "execution_count": null,
      "outputs": []
    },
    {
      "cell_type": "code",
      "source": [
        "# openai.api_key=\"Put the KEY Here\""
      ],
      "metadata": {
        "id": "Mg6-L8w884D2"
      },
      "execution_count": null,
      "outputs": []
    },
    {
      "cell_type": "code",
      "source": [
        "# prompt:\n",
        "\n",
        "# Import the necessary libraries\n",
        "import openai\n",
        "\n",
        "# Define a function to get a completion from the OpenAI Chat Completion API\n",
        "def get_completion(prompt, model=\"gpt-3.5-turbo\"):\n",
        "    messages = [{\"role\": \"user\", \"content\": prompt}]\n",
        "    response = openai.ChatCompletion.create(\n",
        "        model=model,\n",
        "        messages=messages,\n",
        "        temperature=0,\n",
        "    )\n",
        "    return response.choices[0].message.content\n",
        "\n",
        "# Example usage\n",
        "prompt = \"What are some of the benefits of using OpenAI?\"\n",
        "completion = get_completion(prompt)\n",
        "print(completion)\n"
      ],
      "metadata": {
        "id": "-O60ScvzJ6YN"
      },
      "execution_count": null,
      "outputs": []
    },
    {
      "cell_type": "code",
      "source": [
        "\n",
        "def get_completion(prompt, model=\"gpt-3.5-turbo\"):\n",
        "  messages = [{\"role\": \"user\", \"content\": prompt}]\n",
        "  response = openai.ChatCompletion.create(\n",
        "      model=model,\n",
        "    messages=messages,\n",
        "    temperature=0,\n",
        "  )\n",
        "  return response.choices[0].message.content  # Adjust how you access the response content"
      ],
      "metadata": {
        "id": "ypj28ylaCw9E"
      },
      "execution_count": null,
      "outputs": []
    },
    {
      "cell_type": "code",
      "source": [
        "text = f\"\"\"\n",
        "You should express what you want a model to do by \\\n",
        "providing instructions that are as clear and \\\n",
        "specific as you can possibly make them.\\\n",
        "This will guide the model towards the desired output, \\\n",
        "and reduce the chances of receiving irrelevant \\\n",
        "or incorrect responses. Don't confuse writing a \\\n",
        "clear prompt with writing a short prompt.\\Very often longer prompts which elaborates a specific \\\n",
        "area of interest are more insightful for the model than shorter ones.\n",
        "\"\"\"\n",
        "prompt = f\"\"\"\n",
        "Summarize the text delimited by triple backticks \\\n",
        "into a single sentence not exceeding 15 words.\n",
        "```{text}```\n",
        "\"\"\"\n",
        "response = get_completion(prompt)\n",
        "print(response)"
      ],
      "metadata": {
        "id": "tfL0z9S7KGaz"
      },
      "execution_count": null,
      "outputs": []
    },
    {
      "cell_type": "code",
      "source": [
        "prompt = f\"\"\"\n",
        "Translate the following English text to Bengali: \\\n",
        "```Hi, I would like to order a pillow.```\n",
        "\"\"\"\n",
        "response = get_completion(prompt)\n",
        "print(response)"
      ],
      "metadata": {
        "id": "O_e974Viv3Ec"
      },
      "execution_count": null,
      "outputs": []
    },
    {
      "cell_type": "code",
      "source": [
        "prompt = f\"\"\"\n",
        "generate three made-up book titles \\\n",
        "about AI and machine learning along with their author, genre and publisher. \\\n",
        "Give reply in JSON format with keys: Book-ID, Title, Author, Publisher, genre,\\\n",
        "ISBN # and Year \"\"\"\n",
        "response = get_completion(prompt)\n",
        "print(response)"
      ],
      "metadata": {
        "id": "UeyR3NAhwU-U"
      },
      "execution_count": null,
      "outputs": []
    },
    {
      "cell_type": "code",
      "source": [
        "prompt = f\"\"\"\n",
        "your job is to reply using the same style and tone\n",
        "<staff>: I broke the kitchen jar while cleaning.\n",
        "\n",
        "<Manager>: Pick up the pieces carefully and sweep the floor so your feet \\\n",
        "is not cut.\n",
        "\n",
        "<staff>:I burnt the omlette while cooking on the oven.\n",
        "\"\"\"\n",
        "response = get_completion(prompt)\n",
        "print(response)\n",
        "\n",
        "\n"
      ],
      "metadata": {
        "id": "HPbs3PGRzMji"
      },
      "execution_count": null,
      "outputs": []
    }
  ]
}